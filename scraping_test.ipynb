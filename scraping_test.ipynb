{
 "cells": [
  {
   "cell_type": "code",
   "execution_count": 162,
   "metadata": {},
   "outputs": [],
   "source": [
    "from bs4 import BeautifulSoup\n",
    "import requests as req \n",
    "import re\n",
    "import pandas as pd"
   ]
  },
  {
   "cell_type": "code",
   "execution_count": 163,
   "metadata": {},
   "outputs": [
    {
     "data": {
      "text/html": [
       "<div>\n",
       "<style scoped>\n",
       "    .dataframe tbody tr th:only-of-type {\n",
       "        vertical-align: middle;\n",
       "    }\n",
       "\n",
       "    .dataframe tbody tr th {\n",
       "        vertical-align: top;\n",
       "    }\n",
       "\n",
       "    .dataframe thead th {\n",
       "        text-align: right;\n",
       "    }\n",
       "</style>\n",
       "<table border=\"1\" class=\"dataframe\">\n",
       "  <thead>\n",
       "    <tr style=\"text-align: right;\">\n",
       "      <th></th>\n",
       "      <th>Name</th>\n",
       "      <th>Address</th>\n",
       "      <th>Website</th>\n",
       "      <th>Revenue</th>\n",
       "      <th>Nb_employees</th>\n",
       "    </tr>\n",
       "  </thead>\n",
       "  <tbody>\n",
       "  </tbody>\n",
       "</table>\n",
       "</div>"
      ],
      "text/plain": [
       "Empty DataFrame\n",
       "Columns: [Name, Address, Website, Revenue, Nb_employees]\n",
       "Index: []"
      ]
     },
     "execution_count": 163,
     "metadata": {},
     "output_type": "execute_result"
    }
   ],
   "source": [
    "company_frame = pd.DataFrame(columns=['Name','Address','Website','Revenue','Nb_employees'])\n",
    "company_frame"
   ]
  },
  {
   "cell_type": "code",
   "execution_count": 164,
   "metadata": {},
   "outputs": [
    {
     "name": "stdout",
     "output_type": "stream",
     "text": [
      "title: Microsoft Corporation\n",
      "title: Salesforce, Inc.\n",
      "title: Dataiku\n",
      "title: HSBC Holdings plc\n",
      "title: BNP Paribas S.A.\n",
      "title: Bouygues S.A.\n"
     ]
    }
   ],
   "source": [
    "basis = 'https://en.wikipedia.org/wiki/'\n",
    "companies = ['Microsoft','Salesforce','Dataiku','HSBC','BNP_Paribas','Bouygues_Construction']\n",
    "\n",
    "for company in range(len(companies)):\n",
    "    url = basis + companies[company]\n",
    "    response = req.request('get',url)\n",
    "    html = response.text  \n",
    "    soup = BeautifulSoup(html)\n",
    "\n",
    "    try:\n",
    "\n",
    "        #title\n",
    "        title=f\".infobox-title \"\n",
    "        print(\"title: \"+soup.select(title)[0].text)\n",
    "        company_frame.loc[company,'Name'] = soup.select(title)[0].text\n",
    "\n",
    "        #other infos\n",
    "        selector = '.infobox > tbody > tr' #to get each part of the right column\n",
    "        table_rows    = soup.select(selector)\n",
    "        rows = (len(table_rows))\n",
    "\n",
    "        for row in range (rows):\n",
    "            selector=f\".infobox > tbody > tr:nth-child({row}) > .infobox-label \" #get the title of the line on the column\n",
    "            if soup.select(selector) !=[]:\n",
    "                line_title = soup.select(selector)[0].text\n",
    "\n",
    "                #If the title correspounds to the info we want, we get all the text in the <td> table element\n",
    "                if line_title == 'Headquarters':\n",
    "                    selector=f\".infobox > tbody > tr:nth-child({row}) > td \"\n",
    "                    company_frame.loc[company,'Address'] = soup.select(selector)[0].text\n",
    "\n",
    "                if line_title == 'Revenue':\n",
    "                    selector=f\".infobox > tbody > tr:nth-child({row}) > td \"\n",
    "                    company_frame.loc[company,'Revenue'] = soup.select(selector)[0].text\n",
    "\n",
    "                if line_title == 'Website':\n",
    "                    selector=f\".infobox > tbody > tr:nth-child({row}) > td \"\n",
    "                    company_frame.loc[company,'Website'] = soup.select(selector)[0].text\n",
    "\n",
    "                if line_title == 'Number of employees':\n",
    "                    selector=f\".infobox > tbody > tr:nth-child({row}) > td \"\n",
    "                    company_frame.loc[company,'Nb_employees'] = soup.select(selector)[0].text\n",
    "\n",
    "    except Exception as e:\n",
    "        print(e)\n"
   ]
  },
  {
   "cell_type": "code",
   "execution_count": 165,
   "metadata": {},
   "outputs": [
    {
     "data": {
      "text/html": [
       "<div>\n",
       "<style scoped>\n",
       "    .dataframe tbody tr th:only-of-type {\n",
       "        vertical-align: middle;\n",
       "    }\n",
       "\n",
       "    .dataframe tbody tr th {\n",
       "        vertical-align: top;\n",
       "    }\n",
       "\n",
       "    .dataframe thead th {\n",
       "        text-align: right;\n",
       "    }\n",
       "</style>\n",
       "<table border=\"1\" class=\"dataframe\">\n",
       "  <thead>\n",
       "    <tr style=\"text-align: right;\">\n",
       "      <th></th>\n",
       "      <th>Name</th>\n",
       "      <th>Address</th>\n",
       "      <th>Website</th>\n",
       "      <th>Revenue</th>\n",
       "      <th>Nb_employees</th>\n",
       "    </tr>\n",
       "  </thead>\n",
       "  <tbody>\n",
       "    <tr>\n",
       "      <th>0</th>\n",
       "      <td>Microsoft Corporation</td>\n",
       "      <td>One Microsoft WayRedmond, Washington, U.S.</td>\n",
       "      <td>microsoft.com</td>\n",
       "      <td>US$198.3 billion (2022)</td>\n",
       "      <td>221,000 (2022)</td>\n",
       "    </tr>\n",
       "    <tr>\n",
       "      <th>1</th>\n",
       "      <td>Salesforce, Inc.</td>\n",
       "      <td>Salesforce TowerSan Francisco, California, U.S.</td>\n",
       "      <td>salesforce.com</td>\n",
       "      <td>US$26.49 billion (2022)</td>\n",
       "      <td>73,542 (August 2022)</td>\n",
       "    </tr>\n",
       "    <tr>\n",
       "      <th>2</th>\n",
       "      <td>Dataiku</td>\n",
       "      <td>New York City, United States</td>\n",
       "      <td>NaN</td>\n",
       "      <td>US$150 million (2021)[1]</td>\n",
       "      <td>1,000+ (2022)[1]</td>\n",
       "    </tr>\n",
       "    <tr>\n",
       "      <th>3</th>\n",
       "      <td>HSBC Holdings plc</td>\n",
       "      <td>8 Canada SquareLondon, England, UK</td>\n",
       "      <td>NaN</td>\n",
       "      <td>US$49.552 billion (2021)[4]</td>\n",
       "      <td>219,697 (2021)[4]</td>\n",
       "    </tr>\n",
       "    <tr>\n",
       "      <th>4</th>\n",
       "      <td>BNP Paribas S.A.</td>\n",
       "      <td>Boulevard des Italiens, Paris, France</td>\n",
       "      <td>NaN</td>\n",
       "      <td>€46.2 billion (2021)[2]</td>\n",
       "      <td>190,000 (2022)[2]</td>\n",
       "    </tr>\n",
       "    <tr>\n",
       "      <th>5</th>\n",
       "      <td>Bouygues S.A.</td>\n",
       "      <td>8th arrondissement, Paris, France</td>\n",
       "      <td>NaN</td>\n",
       "      <td>€37.59 billion (2021)[1]</td>\n",
       "      <td>124,600 (Dec 2021)[2]</td>\n",
       "    </tr>\n",
       "  </tbody>\n",
       "</table>\n",
       "</div>"
      ],
      "text/plain": [
       "                    Name                                          Address  \\\n",
       "0  Microsoft Corporation       One Microsoft WayRedmond, Washington, U.S.   \n",
       "1       Salesforce, Inc.  Salesforce TowerSan Francisco, California, U.S.   \n",
       "2                Dataiku                     New York City, United States   \n",
       "3      HSBC Holdings plc               8 Canada SquareLondon, England, UK   \n",
       "4       BNP Paribas S.A.            Boulevard des Italiens, Paris, France   \n",
       "5          Bouygues S.A.                8th arrondissement, Paris, France   \n",
       "\n",
       "          Website                       Revenue           Nb_employees  \n",
       "0   microsoft.com       US$198.3 billion (2022)         221,000 (2022)  \n",
       "1  salesforce.com       US$26.49 billion (2022)   73,542 (August 2022)  \n",
       "2             NaN      US$150 million (2021)[1]       1,000+ (2022)[1]  \n",
       "3             NaN   US$49.552 billion (2021)[4]      219,697 (2021)[4]  \n",
       "4             NaN       €46.2 billion (2021)[2]      190,000 (2022)[2]  \n",
       "5             NaN      €37.59 billion (2021)[1]  124,600 (Dec 2021)[2]  "
      ]
     },
     "execution_count": 165,
     "metadata": {},
     "output_type": "execute_result"
    }
   ],
   "source": [
    "company_frame"
   ]
  },
  {
   "cell_type": "code",
   "execution_count": 166,
   "metadata": {},
   "outputs": [],
   "source": [
    "company_frame.to_csv('companies.csv',sep=';')"
   ]
  },
  {
   "cell_type": "code",
   "execution_count": null,
   "metadata": {},
   "outputs": [],
   "source": []
  }
 ],
 "metadata": {
  "kernelspec": {
   "display_name": "Python 3.9.0 64-bit",
   "language": "python",
   "name": "python3"
  },
  "language_info": {
   "codemirror_mode": {
    "name": "ipython",
    "version": 3
   },
   "file_extension": ".py",
   "mimetype": "text/x-python",
   "name": "python",
   "nbconvert_exporter": "python",
   "pygments_lexer": "ipython3",
   "version": "3.9.0"
  },
  "orig_nbformat": 4,
  "vscode": {
   "interpreter": {
    "hash": "81794d4967e6c3204c66dcd87b604927b115b27c00565d3d43f05ba2f3a2cb0d"
   }
  }
 },
 "nbformat": 4,
 "nbformat_minor": 2
}
